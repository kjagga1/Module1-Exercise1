{
 "cells": [
  {
   "cell_type": "markdown",
   "metadata": {},
   "source": [
    "## Questions"
   ]
  },
  {
   "cell_type": "markdown",
   "metadata": {},
   "source": [
    "1. What is a hardware?"
   ]
  },
  {
   "cell_type": "markdown",
   "metadata": {},
   "source": [
    "Hardware is physical parts that you can tuch. "
   ]
  },
  {
   "cell_type": "markdown",
   "metadata": {},
   "source": [
    "2. What is a software?"
   ]
  },
  {
   "cell_type": "markdown",
   "metadata": {},
   "source": [
    "its set of instructions that directs a computer or a machine"
   ]
  },
  {
   "cell_type": "markdown",
   "metadata": {},
   "source": [
    "3. Convert 10011001 to a decimal number"
   ]
  },
  {
   "cell_type": "markdown",
   "metadata": {},
   "source": [
    "1x2(7)+0x2(6)+0x2(5)+1x2(4)+1x2(3)+0x2(2)0x2(1)+1X2(0)\n",
    "1x128+0X64+0X32+1X16+1X8+0x4+0X2+1X1\n",
    "128+0+0+16+8+0+0+1=153\n",
    "10011001 to a decimal number is 153"
   ]
  },
  {
   "cell_type": "markdown",
   "metadata": {},
   "source": [
    "4. Convert 11101100 to a decimal number"
   ]
  },
  {
   "cell_type": "markdown",
   "metadata": {},
   "source": [
    "1x2(7)+1x2(6)+1x2(5)+0x2(4)+1x2(3)+1x2(2)0x2(1)+0X2(0)\n",
    "1x128+1X64+1X32+0X16+1X8+1x4+0X2+0X1\n",
    "128+64+32+0+8+4+0+0=236\n",
    "11101100 to a decimal number is 236"
   ]
  },
  {
   "cell_type": "markdown",
   "metadata": {},
   "source": [
    "5. Decode this secret message:\n",
    "01001100 01101111 01100111 01101001 01100011"
   ]
  },
  {
   "cell_type": "markdown",
   "metadata": {},
   "source": []
  },
  {
   "cell_type": "markdown",
   "metadata": {},
   "source": [
    "6. Identify and explain stages of Programming."
   ]
  },
  {
   "cell_type": "markdown",
   "metadata": {},
   "source": [
    "Programing process are as follows\n",
    "1-Defining the problem\n",
    "    -Identifying what it is you know ( input-given data)\n",
    "    -what it is you want to get (output the result)\n",
    "    =input-processing and output\n",
    "    \n",
    "2-planning the solution\n",
    "    -Drew a flowchart for the identified problem\n",
    "    -or to wirite pseudocode for the identified problem\n",
    "3-coding the program\n",
    "    -rewrite the solution to the identified problem in a programming language\n",
    "4-testing the program\n",
    "    -testing the code to see if its correct solution \n",
    "5-documenting the program\n",
    "    Writing the detailed discription on the programing cycle and specific facts abut the program.\n",
    "\n"
   ]
  },
  {
   "cell_type": "markdown",
   "metadata": {},
   "source": [
    "7. You need to write a program to compute total sales amount when sales tax is 5%. Identify IPO (inpt, process, output) for this program."
   ]
  },
  {
   "cell_type": "markdown",
   "metadata": {},
   "source": [
    "IPO\n",
    "INPUT= ITEM PRICE BEFORE TAX\n",
    "PROCESSING = ITEM PRICE X 0.05 / 100\n",
    "OUTPUT = ITEM PRICE + TAX = TOTAL PRICE OF THE ITEM\n",
    "\n",
    "BEGIN\n",
    "    PRICE PER ITEM = Y\n",
    "    TAX RATE IS = 0.05\n",
    "    TAX AMOUNT = Y X 0.05\n",
    "    TOTAL PRICE = Y + TAX AMOUNT\n",
    "END\n",
    "    "
   ]
  },
  {
   "cell_type": "markdown",
   "metadata": {},
   "source": [
    "8. Identify IPO for converting liters to US gallons."
   ]
  },
  {
   "cell_type": "markdown",
   "metadata": {},
   "source": [
    "1 LITER = 0.264 GALLONS\n",
    "IPO\n",
    "INPUT = LITERS\n",
    "PROCESSING = US GALLONS =  LITERS / .264 G \n",
    "OUTPUT = US GALLONS    "
   ]
  },
  {
   "cell_type": "markdown",
   "metadata": {},
   "source": [
    "9. Identify IPO for computing a worker's pay. What information/data do you need?"
   ]
  },
  {
   "cell_type": "markdown",
   "metadata": {},
   "source": [
    "IPO\n",
    "INPUT = HOURLY WAGES AND HOURS WORKED\n",
    "PROCESSING = TOTAL PAY = HOURLY WAGES X HOURS WORKED\n",
    "OUTPUT = TOTAL PAY"
   ]
  }
 ],
 "metadata": {
  "kernelspec": {
   "display_name": "Python 3",
   "language": "python",
   "name": "python3"
  },
  "language_info": {
   "codemirror_mode": {
    "name": "ipython",
    "version": 3
   },
   "file_extension": ".py",
   "mimetype": "text/x-python",
   "name": "python",
   "nbconvert_exporter": "python",
   "pygments_lexer": "ipython3",
   "version": "3.8.8"
  }
 },
 "nbformat": 4,
 "nbformat_minor": 4
}
